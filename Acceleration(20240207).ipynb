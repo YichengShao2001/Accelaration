{
 "cells": [
  {
   "cell_type": "markdown",
   "id": "26597485",
   "metadata": {},
   "source": [
    "## Acceleration"
   ]
  },
  {
   "cell_type": "markdown",
   "id": "fb3082e2",
   "metadata": {},
   "source": [
    "## 第一阶段"
   ]
  },
  {
   "cell_type": "code",
   "execution_count": 2,
   "id": "bc119758",
   "metadata": {},
   "outputs": [
    {
     "name": "stdout",
     "output_type": "stream",
     "text": [
      "任务一平均用时: 1.2151346921920776 秒.\n"
     ]
    }
   ],
   "source": [
    "import numpy as np\n",
    "import time\n",
    "\n",
    "# 任务一\n",
    "iter = 10\n",
    "time_1 = 0\n",
    "\n",
    "for i in range(iter):\n",
    "    start_time = time.time()\n",
    "    n = 9000\n",
    "    A = np.random.rand(n, n)\n",
    "    trans_A = A.T\n",
    "    A_Square = A * A\n",
    "    time_1 += time.time() - start_time\n",
    "\n",
    "time_1 /= iter\n",
    "print(f'任务一平均用时: {time_1} 秒.')"
   ]
  },
  {
   "cell_type": "code",
   "execution_count": 3,
   "id": "557f6584",
   "metadata": {},
   "outputs": [
    {
     "name": "stderr",
     "output_type": "stream",
     "text": [
      "C:\\Users\\75750\\AppData\\Local\\Temp\\ipykernel_34360\\770751789.py:10: RuntimeWarning: overflow encountered in power\n",
      "  A_N = np.power(A, N)\n"
     ]
    },
    {
     "name": "stdout",
     "output_type": "stream",
     "text": [
      "任务二平均用时: 1.666087555885315 秒.\n"
     ]
    }
   ],
   "source": [
    "# 任务二\n",
    "iter = 10\n",
    "time_2 = 0\n",
    "n = 3600\n",
    "N = 1200\n",
    "\n",
    "for i in range(iter):\n",
    "    start_time = time.time()\n",
    "    A = np.random.randn(n, n)\n",
    "    A_N = np.power(A, N)\n",
    "    time_2 += time.time() - start_time\n",
    "\n",
    "time_2 /= iter\n",
    "print(f'任务二平均用时: {time_2} 秒.')"
   ]
  },
  {
   "cell_type": "code",
   "execution_count": 5,
   "id": "12bb4551",
   "metadata": {},
   "outputs": [
    {
     "name": "stdout",
     "output_type": "stream",
     "text": [
      "任务三平均用时: 2.5546823501586915 秒.\n"
     ]
    }
   ],
   "source": [
    "# 任务三\n",
    "iter = 10\n",
    "time_3 = 0\n",
    "n = 14 * 10**6\n",
    "\n",
    "for i in range(iter):\n",
    "    start_time = time.time()\n",
    "    randoms = np.random.randn(n, 1)\n",
    "    sorted_values = np.sort(randoms, axis=0)\n",
    "    time_3 += time.time() - start_time\n",
    "\n",
    "time_3 /= iter\n",
    "print(f'任务三平均用时: {time_3} 秒.')"
   ]
  },
  {
   "cell_type": "code",
   "execution_count": 6,
   "id": "8a85137d",
   "metadata": {},
   "outputs": [
    {
     "name": "stdout",
     "output_type": "stream",
     "text": [
      "任务四平均用时: 6.956734848022461 秒.\n"
     ]
    }
   ],
   "source": [
    "# 任务四\n",
    "iter = 10\n",
    "time_4 = 0\n",
    "n = 3 * 10**4\n",
    "\n",
    "for i in range(iter):\n",
    "    start_time = time.time()\n",
    "    a = np.random.randn(n, 1)\n",
    "    b = np.dot(a, a.T)\n",
    "    time_4 += time.time() - start_time\n",
    "\n",
    "time_4 /= iter\n",
    "print(f'任务四平均用时: {time_4} 秒.')"
   ]
  },
  {
   "cell_type": "code",
   "execution_count": 8,
   "id": "bf2f1d79",
   "metadata": {},
   "outputs": [
    {
     "name": "stdout",
     "output_type": "stream",
     "text": [
      "任务五平均用时: 0.39614722728729246 秒.\n"
     ]
    }
   ],
   "source": [
    "# 任务五\n",
    "iter = 10\n",
    "time_5 = 0\n",
    "n = 25 * 10**3\n",
    "p = 250\n",
    "\n",
    "for i in range(iter):\n",
    "    start_time = time.time()\n",
    "    X = np.random.randn(n, p)\n",
    "    Y = np.random.randn(n, 1)\n",
    "    beta = np.linalg.pinv(np.dot(X.T, X)).dot(X.T).dot(Y)\n",
    "    time_5 += time.time() - start_time\n",
    "\n",
    "time_5 /= iter\n",
    "print(f'任务五平均用时: {time_5} 秒.')"
   ]
  },
  {
   "cell_type": "markdown",
   "id": "ae3dc357",
   "metadata": {},
   "source": [
    "在某一次试验当中:\n",
    "\n",
    "任务一平均用时: 1.2151346921920776 秒.\n",
    "\n",
    "任务二平均用时: 1.6660875558853150 秒.\n",
    "\n",
    "任务三平均用时: 2.5546823501586915 秒.\n",
    "\n",
    "任务四平均用时: 6.9567348480224610 秒.\n",
    "\n",
    "任务五平均用时: 0.3961472272872925 秒."
   ]
  },
  {
   "cell_type": "markdown",
   "id": "d6e68b87",
   "metadata": {},
   "source": [
    "## 第二阶段"
   ]
  },
  {
   "cell_type": "code",
   "execution_count": 9,
   "id": "05935f23",
   "metadata": {},
   "outputs": [
    {
     "name": "stdout",
     "output_type": "stream",
     "text": [
      "任务六平均用时: 0.5770775079727173 秒.\n",
      "任务七平均用时: 0.46763060092926023 秒.\n"
     ]
    },
    {
     "name": "stderr",
     "output_type": "stream",
     "text": [
      "D:\\Anaconda\\lib\\site-packages\\numpy\\linalg\\linalg.py:2158: RuntimeWarning: overflow encountered in det\n",
      "  r = _umath_linalg.det(a, signature=signature)\n"
     ]
    },
    {
     "name": "stdout",
     "output_type": "stream",
     "text": [
      "任务八平均用时: 0.35725481510162355 秒.\n",
      "任务九平均用时: 0.19527502059936525 秒.\n",
      "任务十平均用时: 1.4255633354187012 秒.\n"
     ]
    },
    {
     "data": {
      "text/plain": [
       "'\\n在某一次试验当中:\\n\\n任务六平均用时: 0.10165600776672364 秒.\\n任务七平均用时: 0.4059452533721924 秒.\\n任务八平均用时: 0.5121487140655517 秒.\\n任务九平均用时: 1.0733395576477052 秒.\\n任务十平均用时: 2.47460560798645 秒.\\n'"
      ]
     },
     "execution_count": 9,
     "metadata": {},
     "output_type": "execute_result"
    }
   ],
   "source": [
    "# 任务六\n",
    "iter = 10\n",
    "time_6 = 0\n",
    "n = 13 * 10**6\n",
    "\n",
    "for i in range(iter):\n",
    "    start_time = time.time()\n",
    "    randoms = np.random.randn(n, 1)\n",
    "    result = np.fft.fft(randoms)\n",
    "    time_6 += time.time() - start_time\n",
    "\n",
    "time_6 /= iter\n",
    "print(f'任务六平均用时: {time_6} 秒.')\n",
    "\n",
    "# 任务七\n",
    "iter = 10\n",
    "time_7 = 0\n",
    "n = 750\n",
    "\n",
    "for i in range(iter):\n",
    "    start_time = time.time()\n",
    "    matrix = np.random.randn(n, n)\n",
    "    eigenvalues = np.linalg.eigvals(matrix)\n",
    "    time_7 += time.time() - start_time\n",
    "\n",
    "time_7 /= iter\n",
    "print(f'任务七平均用时: {time_7} 秒.')\n",
    "\n",
    "# 任务八\n",
    "iter = 10\n",
    "time_8 = 0\n",
    "n = 2200\n",
    "\n",
    "for i in range(iter):\n",
    "    start_time = time.time()\n",
    "    matrix = np.random.randn(n, n)\n",
    "\n",
    "    # Scale the matrix to avoid overflow\n",
    "    scale_factor = np.max(np.abs(matrix))\n",
    "    scaled_matrix = matrix / scale_factor\n",
    "\n",
    "    det_value = np.linalg.det(scaled_matrix)\n",
    "    time_8 += time.time() - start_time\n",
    "\n",
    "time_8 /= iter\n",
    "print(f'任务八平均用时: {time_8} 秒.')\n",
    "\n",
    "\n",
    "# 任务九\n",
    "iter = 10\n",
    "time_9 = 0\n",
    "n = 1500\n",
    "\n",
    "for i in range(iter):\n",
    "    start_time = time.time()\n",
    "    matrix = np.random.randn(n, n)\n",
    "    sym_matrix = np.dot(matrix.T, matrix)\n",
    "    cholesky_matrix = np.linalg.cholesky(sym_matrix).T\n",
    "    time_9 += time.time() - start_time\n",
    "\n",
    "time_9 /= iter\n",
    "print(f'任务九平均用时: {time_9} 秒.')\n",
    "\n",
    "# 任务十\n",
    "iter = 10\n",
    "time_10 = 0\n",
    "n = 1400\n",
    "\n",
    "for i in range(iter):\n",
    "    start_time = time.time()\n",
    "    matrix = np.random.randn(n, n)\n",
    "    np.linalg.pinv(matrix)\n",
    "    time_10 += time.time() - start_time\n",
    "\n",
    "time_10 /= iter\n",
    "print(f'任务十平均用时: {time_10} 秒.')"
   ]
  },
  {
   "cell_type": "markdown",
   "id": "7c6544e5",
   "metadata": {},
   "source": [
    "在某一次试验当中:\n",
    "\n",
    "任务六平均用时: 0.5770775079727173 秒.\n",
    "\n",
    "任务七平均用时: 0.4676306009292602 秒.\n",
    "\n",
    "任务八平均用时: 0.3572548151016236 秒.\n",
    "\n",
    "任务九平均用时: 0.1952750205993653 秒.\n",
    "\n",
    "任务十平均用时: 1.4255633354187012 秒."
   ]
  },
  {
   "cell_type": "markdown",
   "id": "939cdcb4",
   "metadata": {},
   "source": [
    "## 第三阶段"
   ]
  },
  {
   "cell_type": "code",
   "execution_count": 12,
   "id": "e4491535",
   "metadata": {},
   "outputs": [
    {
     "name": "stderr",
     "output_type": "stream",
     "text": [
      "C:\\Users\\75750\\AppData\\Local\\Temp\\ipykernel_34360\\2476834155.py:11: RuntimeWarning: overflow encountered in longlong_scalars\n",
      "  fibonacci_numbers[j] = fibonacci_numbers[j-1] + fibonacci_numbers[j-2]\n"
     ]
    },
    {
     "name": "stdout",
     "output_type": "stream",
     "text": [
      "任务十一平均用时: 19.76378345489502 秒.\n"
     ]
    }
   ],
   "source": [
    "# 任务十一\n",
    "iter = 2\n",
    "time_11 = 0\n",
    "n = 18 * 10**6\n",
    "\n",
    "for i in range(iter):\n",
    "    start_time = time.time()\n",
    "    fibonacci_numbers = np.zeros(n, dtype=np.int64)\n",
    "    fibonacci_numbers[0:2] = [0, 1]\n",
    "    for j in range(2, n):\n",
    "        fibonacci_numbers[j] = fibonacci_numbers[j-1] + fibonacci_numbers[j-2]\n",
    "    time_11 += time.time() - start_time\n",
    "\n",
    "time_11 /= iter\n",
    "print(f'任务十一平均用时: {time_11} 秒.')"
   ]
  },
  {
   "cell_type": "code",
   "execution_count": 11,
   "id": "7da2c02e",
   "metadata": {},
   "outputs": [
    {
     "name": "stdout",
     "output_type": "stream",
     "text": [
      "任务十二平均用时: 0.31195309162139895 秒.\n",
      "任务十三平均用时: 1.1281368255615234 秒.\n",
      "任务十四平均用时: 0.01770358085632324 秒.\n",
      "任务十五平均用时: 7.218824887275696 秒.\n"
     ]
    },
    {
     "data": {
      "text/plain": [
       "'\\n在某一次试验当中:\\n\\n任务十一平均用时: 3.9217566728591917 秒.\\n任务十二平均用时: 0.024652433395385743 秒.\\n任务十三平均用时: 1.3155298948287963 秒.\\n任务十四平均用时: 0.00020020008087158204 秒.\\n任务十五平均用时: 0.0006998538970947266 秒.\\n'"
      ]
     },
     "execution_count": 11,
     "metadata": {},
     "output_type": "execute_result"
    }
   ],
   "source": [
    "# 任务十二\n",
    "from scipy.linalg import hilbert\n",
    "\n",
    "iter = 10\n",
    "time_12 = 0\n",
    "n = 11000\n",
    "\n",
    "for i in range(iter):\n",
    "    start_time = time.time()\n",
    "    hilbert_matrix = hilbert(n)\n",
    "    time_12 += time.time() - start_time\n",
    "\n",
    "time_12 /= iter\n",
    "print(f'任务十二平均用时: {time_12} 秒.')\n",
    "\n",
    "\n",
    "# 任务十三\n",
    "def gcd_recursive(a, b):\n",
    "    if b == 0:\n",
    "        return a\n",
    "    else:\n",
    "        return gcd_recursive(b, a % b)\n",
    "\n",
    "iter = 10\n",
    "time_13 = 0\n",
    "n = 35 * 10**4\n",
    "p = 1400\n",
    "\n",
    "for i in range(iter):\n",
    "    start_time = time.time()\n",
    "    pairs_num = n\n",
    "    pairs = np.random.randint(1, p+1, size=(pairs_num, 2))\n",
    "    gcd_values = np.zeros(pairs_num)\n",
    "    for j in range(pairs_num):\n",
    "        gcd_values[j] = gcd_recursive(pairs[j, 0], pairs[j, 1])\n",
    "    time_13 += time.time() - start_time\n",
    "\n",
    "time_13 /= iter\n",
    "print(f'任务十三平均用时: {time_13} 秒.')\n",
    "\n",
    "\n",
    "# 任务十四\n",
    "from scipy.linalg import toeplitz\n",
    "iter = 10\n",
    "time_14 = 0\n",
    "n = 3500\n",
    "\n",
    "for k in range(iter):\n",
    "    start_time = time.time()\n",
    "\n",
    "    first_row = np.arange(1, n + 1)\n",
    "    toeplitz_matrix = toeplitz(first_row)\n",
    "\n",
    "    time_14 += time.time() - start_time\n",
    "\n",
    "time_14 /= iter\n",
    "print(f'任务十四平均用时: {time_14} 秒.')\n",
    "\n",
    "\n",
    "# 任务十五\n",
    "iter = 10\n",
    "time_15 = 0\n",
    "n = 17 * 10**3\n",
    "p = 200\n",
    "\n",
    "for k in range(iter):\n",
    "    start_time = time.time()\n",
    "    data_matrix = np.random.randn(n, p)\n",
    "    _, _, explained = np.linalg.svd(data_matrix)\n",
    "    time_15 += time.time() - start_time\n",
    "\n",
    "time_15 /= iter\n",
    "print(f'任务十五平均用时: {time_15} 秒.')\n",
    "\n"
   ]
  },
  {
   "cell_type": "markdown",
   "id": "82a87c6a",
   "metadata": {},
   "source": [
    "在某一次试验当中:\n",
    "\n",
    "任务十一平均用时: 19.76378345489502 秒.\n",
    "\n",
    "任务十二平均用时: 0.311953091621399 秒.\n",
    "\n",
    "任务十三平均用时: 1.128136825561523 秒.\n",
    "\n",
    "任务十四平均用时: 0.017703580856323 秒.\n",
    "\n",
    "任务十五平均用时: 7.218824887275696 秒."
   ]
  }
 ],
 "metadata": {
  "kernelspec": {
   "display_name": "Python 3 (ipykernel)",
   "language": "python",
   "name": "python3"
  },
  "language_info": {
   "codemirror_mode": {
    "name": "ipython",
    "version": 3
   },
   "file_extension": ".py",
   "mimetype": "text/x-python",
   "name": "python",
   "nbconvert_exporter": "python",
   "pygments_lexer": "ipython3",
   "version": "3.9.13"
  }
 },
 "nbformat": 4,
 "nbformat_minor": 5
}
